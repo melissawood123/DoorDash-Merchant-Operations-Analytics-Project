{
 "cells": [
  {
   "cell_type": "markdown",
   "id": "14194bd1",
   "metadata": {},
   "source": [
    "# DoorDash Merchant Operations Analytics Project\n",
    "## Name: Jia Wen (Steven) Liu\n",
    "## Date: 2021-07-16"
   ]
  },
  {
   "cell_type": "code",
   "execution_count": 1,
   "id": "8efec579",
   "metadata": {},
   "outputs": [],
   "source": [
    "# Import relevant libraries for data analysis\n",
    "import pandas as pd\n",
    "import numpy as np\n",
    "import matplotlib.pyplot as plt\n",
    "import datetime as dt\n",
    "import statsmodels.api as sm\n",
    "import scipy.stats as ss"
   ]
  },
  {
   "cell_type": "markdown",
   "id": "a7172e1a",
   "metadata": {},
   "source": [
    "# Project Goal: Provide a set of recommendations on how to improve DoorDash with provided sample delivery data\n",
    "\n",
    "### Business Recommendations:\n",
    " - Utilize time-region based switchback testing to understand how many drivers are needed at each region at different hours of the day to maximize orders amount and revenue while minimizing the total delivery times. This would provide a better control of network equiliribum between each participant and further optimize the metrics for DoorDash.\n",
    " \n",
    " - Increase the number of drivers or driver tips at each region (Mountain View, Palo Alto, and San Jose) at peak-hours to reduce the average of amount of orders per hour, average total time to customers, and less congestion for the ordering traffic. This may provide higher customer, merchant, and drivers experience overall, which leads to better experiences and branding for DoorDash that could drive up market share percentage.\n",
    " \n",
    " - Collabrate with the merchants to increase their average order total amount for each order by providing a tier-based reward incentive system. The tier-based reward incentive system could be based on customer-merchant time-diff, merchant-driver time-diff, and total delivery time. The lower the time-diffs are, the higher tiers/incentives the merchants are eligible for. By incorporating the merchants in the entire supply chain system with incentives, the merchants are more likely be execute the orders more efficiently and more responsibly. This would provide a higher revenue to DoorDash while providing a win-win siutation to the merchants.\n",
    " \n",
    " - Establish a more robust system to encourage customers to use scheduled orders (is ASAP=False). This allows for better prepartion and relieve the supply chain and logistic burdens on all participants (merchants, drivers and DoorDash). From the t-test shown in Part F, customers spend more on orders on average with scheduled orders. This would provide a higher revenue to DoorDash while providing a win-win situation to merchants. \n",
    " \n",
    " - Perform location/geographical-based clustering algorithm on Restaurant ID in each region based on Order Total. This would further allow DoorDash to understand popular neighborhoods and businesses that customers frequently order from. DoorDash can plan drivers route more accurately based on these clusters and traffic. Additionally, DoorDash should leverage this data to promote and work with local merchants/businesses that are not frequently ordered by the customers. This helps the improve the DoorDash relationship with the local businesses and helping them out. Actions could be working with the advertising, sales, and marketing team to promote those businesses with highlights or discounts on DoorDash.\n",
    " \n",
    " - Perform A/B or A/A testing to understand how much discounts are needed to see a positive impact on the order total for each restaurant."
   ]
  },
  {
   "cell_type": "markdown",
   "id": "eff60e62",
   "metadata": {},
   "source": [
    "## Part A: Data Cleaning\n",
    "Using the 'Sample deliveries data - 1 month.xlsx', perform exploratory data analysis and data cleaning. The plan is to：\n",
    " - Convert the first four datetime columns into Datetime object. Assume the data is in the month of 2014 January for easier computation of time difference and timezone conversion because DoorDash founding date is in the early 2013. This assumption does not impact further analysis in this notebook.\n",
    " - Convert UTC timezone to PT timezone.\n",
    " - Check for missing values for each feature column. Either drop missing values or perform missing value imputation."
   ]
  },
  {
   "cell_type": "code",
   "execution_count": 2,
   "id": "4a533b22",
   "metadata": {},
   "outputs": [
    {
     "name": "stderr",
     "output_type": "stream",
     "text": [
      "C:\\Users\\Steven\\anaconda3\\lib\\site-packages\\openpyxl\\worksheet\\_reader.py:312: UserWarning: Unknown extension is not supported and will be removed\n",
      "  warn(msg)\n"
     ]
    }
   ],
   "source": [
    "# Genereated from the provided 'Sample deliveries data - 1 month' file\n",
    "# Store provided data in dataframe for ease of access\n",
    "file_name = 'Sample deliveries data - 1 month.xlsx'\n",
    "deliveries_data = pd.read_excel(file_name)"
   ]
  },
  {
   "cell_type": "code",
   "execution_count": 3,
   "id": "8374ad93",
   "metadata": {
    "scrolled": true
   },
   "outputs": [
    {
     "data": {
      "text/html": [
       "<div>\n",
       "<style scoped>\n",
       "    .dataframe tbody tr th:only-of-type {\n",
       "        vertical-align: middle;\n",
       "    }\n",
       "\n",
       "    .dataframe tbody tr th {\n",
       "        vertical-align: top;\n",
       "    }\n",
       "\n",
       "    .dataframe thead th {\n",
       "        text-align: right;\n",
       "    }\n",
       "</style>\n",
       "<table border=\"1\" class=\"dataframe\">\n",
       "  <thead>\n",
       "    <tr style=\"text-align: right;\">\n",
       "      <th></th>\n",
       "      <th>Customer placed order datetime</th>\n",
       "      <th>Placed order with restaurant datetime</th>\n",
       "      <th>Driver at restaurant datetime</th>\n",
       "      <th>Delivered to consumer datetime</th>\n",
       "      <th>Driver ID</th>\n",
       "      <th>Restaurant ID</th>\n",
       "      <th>Consumer ID</th>\n",
       "      <th>Delivery Region</th>\n",
       "      <th>Is ASAP</th>\n",
       "      <th>Order total</th>\n",
       "      <th>Amount of discount</th>\n",
       "      <th>Amount of tip</th>\n",
       "      <th>Refunded amount</th>\n",
       "    </tr>\n",
       "  </thead>\n",
       "  <tbody>\n",
       "    <tr>\n",
       "      <th>0</th>\n",
       "      <td>01 02:52:12</td>\n",
       "      <td>01 03:00:25</td>\n",
       "      <td>01 03:08:09</td>\n",
       "      <td>01 03:35:20</td>\n",
       "      <td>279</td>\n",
       "      <td>50</td>\n",
       "      <td>6738</td>\n",
       "      <td>Mountain View</td>\n",
       "      <td>True</td>\n",
       "      <td>16.33</td>\n",
       "      <td>0.0</td>\n",
       "      <td>0.82</td>\n",
       "      <td>0.0</td>\n",
       "    </tr>\n",
       "    <tr>\n",
       "      <th>1</th>\n",
       "      <td>13 15:58:57</td>\n",
       "      <td>13 17:56:45</td>\n",
       "      <td>13 18:24:39</td>\n",
       "      <td>13 18:57:01</td>\n",
       "      <td>303</td>\n",
       "      <td>96</td>\n",
       "      <td>64746</td>\n",
       "      <td>Palo Alto</td>\n",
       "      <td>True</td>\n",
       "      <td>76.14</td>\n",
       "      <td>0.0</td>\n",
       "      <td>6.45</td>\n",
       "      <td>0.0</td>\n",
       "    </tr>\n",
       "    <tr>\n",
       "      <th>2</th>\n",
       "      <td>17 19:02:37</td>\n",
       "      <td>17 19:12:51</td>\n",
       "      <td>17 19:19:59</td>\n",
       "      <td>17 19:31:09</td>\n",
       "      <td>212</td>\n",
       "      <td>190</td>\n",
       "      <td>12484</td>\n",
       "      <td>San Jose</td>\n",
       "      <td>True</td>\n",
       "      <td>16.77</td>\n",
       "      <td>6.0</td>\n",
       "      <td>2.52</td>\n",
       "      <td>0.0</td>\n",
       "    </tr>\n",
       "    <tr>\n",
       "      <th>3</th>\n",
       "      <td>12 04:01:57</td>\n",
       "      <td>12 04:08:18</td>\n",
       "      <td>12 04:13:02</td>\n",
       "      <td>12 04:37:57</td>\n",
       "      <td>352</td>\n",
       "      <td>194</td>\n",
       "      <td>13920</td>\n",
       "      <td>San Jose</td>\n",
       "      <td>True</td>\n",
       "      <td>25.03</td>\n",
       "      <td>0.0</td>\n",
       "      <td>5.00</td>\n",
       "      <td>0.0</td>\n",
       "    </tr>\n",
       "    <tr>\n",
       "      <th>4</th>\n",
       "      <td>08 23:46:38</td>\n",
       "      <td>08 23:49:32</td>\n",
       "      <td>08 23:54:29</td>\n",
       "      <td>09 00:37:15</td>\n",
       "      <td>313</td>\n",
       "      <td>9</td>\n",
       "      <td>7037</td>\n",
       "      <td>Palo Alto</td>\n",
       "      <td>True</td>\n",
       "      <td>51.57</td>\n",
       "      <td>0.0</td>\n",
       "      <td>5.16</td>\n",
       "      <td>0.0</td>\n",
       "    </tr>\n",
       "  </tbody>\n",
       "</table>\n",
       "</div>"
      ],
      "text/plain": [
       "  Customer placed order datetime Placed order with restaurant datetime  \\\n",
       "0                    01 02:52:12                           01 03:00:25   \n",
       "1                    13 15:58:57                           13 17:56:45   \n",
       "2                    17 19:02:37                           17 19:12:51   \n",
       "3                    12 04:01:57                           12 04:08:18   \n",
       "4                    08 23:46:38                           08 23:49:32   \n",
       "\n",
       "  Driver at restaurant datetime Delivered to consumer datetime  Driver ID  \\\n",
       "0                   01 03:08:09                    01 03:35:20        279   \n",
       "1                   13 18:24:39                    13 18:57:01        303   \n",
       "2                   17 19:19:59                    17 19:31:09        212   \n",
       "3                   12 04:13:02                    12 04:37:57        352   \n",
       "4                   08 23:54:29                    09 00:37:15        313   \n",
       "\n",
       "   Restaurant ID  Consumer ID Delivery Region  Is ASAP  Order total  \\\n",
       "0             50         6738   Mountain View     True        16.33   \n",
       "1             96        64746       Palo Alto     True        76.14   \n",
       "2            190        12484        San Jose     True        16.77   \n",
       "3            194        13920        San Jose     True        25.03   \n",
       "4              9         7037       Palo Alto     True        51.57   \n",
       "\n",
       "   Amount of discount  Amount of tip  Refunded amount  \n",
       "0                 0.0           0.82              0.0  \n",
       "1                 0.0           6.45              0.0  \n",
       "2                 6.0           2.52              0.0  \n",
       "3                 0.0           5.00              0.0  \n",
       "4                 0.0           5.16              0.0  "
      ]
     },
     "execution_count": 3,
     "metadata": {},
     "output_type": "execute_result"
    }
   ],
   "source": [
    "deliveries_data.head()"
   ]
  },
  {
   "cell_type": "code",
   "execution_count": 4,
   "id": "5298748a",
   "metadata": {},
   "outputs": [],
   "source": [
    "deliveries_data['Customer placed order datetime'] = '2014-01-' + deliveries_data['Customer placed order datetime']\n",
    "deliveries_data['Placed order with restaurant datetime'] = '2014-01-' + deliveries_data['Placed order with restaurant datetime']\n",
    "deliveries_data['Driver at restaurant datetime'] = '2014-01-' + deliveries_data['Driver at restaurant datetime']\n",
    "deliveries_data['Delivered to consumer datetime'] = '2014-01-' + deliveries_data['Delivered to consumer datetime']\n",
    "\n",
    "deliveries_data.loc[:, 'Customer placed order datetime'] = pd.to_datetime(deliveries_data['Customer placed order datetime'],\n",
    "            format='%Y-%m-%d %H:%M:%S').dt.tz_localize('UTC').dt.tz_convert('US/Pacific')\n",
    "deliveries_data.loc[:, 'Placed order with restaurant datetime'] = pd.to_datetime(deliveries_data['Placed order with restaurant datetime'],\n",
    "            format='%Y-%m-%d %H:%M:%S').dt.tz_localize('UTC').dt.tz_convert('US/Pacific')\n",
    "deliveries_data.loc[:, 'Driver at restaurant datetime'] = pd.to_datetime(deliveries_data['Driver at restaurant datetime'],\n",
    "            format='%Y-%m-%d %H:%M:%S').dt.tz_localize('UTC').dt.tz_convert('US/Pacific')\n",
    "deliveries_data.loc[:, 'Delivered to consumer datetime'] = pd.to_datetime(deliveries_data['Delivered to consumer datetime'],\n",
    "            format='%Y-%m-%d %H:%M:%S').dt.tz_localize('UTC').dt.tz_convert('US/Pacific')"
   ]
  },
  {
   "cell_type": "code",
   "execution_count": 5,
   "id": "273d119b",
   "metadata": {},
   "outputs": [
    {
     "name": "stdout",
     "output_type": "stream",
     "text": [
      "<class 'pandas.core.frame.DataFrame'>\n",
      "RangeIndex: 18078 entries, 0 to 18077\n",
      "Data columns (total 13 columns):\n",
      " #   Column                                 Non-Null Count  Dtype                     \n",
      "---  ------                                 --------------  -----                     \n",
      " 0   Customer placed order datetime         18078 non-null  datetime64[ns, US/Pacific]\n",
      " 1   Placed order with restaurant datetime  18038 non-null  datetime64[ns, US/Pacific]\n",
      " 2   Driver at restaurant datetime          13547 non-null  datetime64[ns, US/Pacific]\n",
      " 3   Delivered to consumer datetime         18078 non-null  datetime64[ns, US/Pacific]\n",
      " 4   Driver ID                              18078 non-null  int64                     \n",
      " 5   Restaurant ID                          18078 non-null  int64                     \n",
      " 6   Consumer ID                            18078 non-null  int64                     \n",
      " 7   Delivery Region                        18078 non-null  object                    \n",
      " 8   Is ASAP                                18078 non-null  bool                      \n",
      " 9   Order total                            18078 non-null  float64                   \n",
      " 10  Amount of discount                     18078 non-null  float64                   \n",
      " 11  Amount of tip                          18078 non-null  float64                   \n",
      " 12  Refunded amount                        18078 non-null  float64                   \n",
      "dtypes: bool(1), datetime64[ns, US/Pacific](4), float64(4), int64(3), object(1)\n",
      "memory usage: 1.7+ MB\n"
     ]
    },
    {
     "data": {
      "text/plain": [
       "Customer placed order datetime              0\n",
       "Placed order with restaurant datetime      40\n",
       "Driver at restaurant datetime            4531\n",
       "Delivered to consumer datetime              0\n",
       "Driver ID                                   0\n",
       "Restaurant ID                               0\n",
       "Consumer ID                                 0\n",
       "Delivery Region                             0\n",
       "Is ASAP                                     0\n",
       "Order total                                 0\n",
       "Amount of discount                          0\n",
       "Amount of tip                               0\n",
       "Refunded amount                             0\n",
       "dtype: int64"
      ]
     },
     "execution_count": 5,
     "metadata": {},
     "output_type": "execute_result"
    }
   ],
   "source": [
    "deliveries_data.info()\n",
    "deliveries_data.isna().sum()"
   ]
  },
  {
   "cell_type": "markdown",
   "id": "6482249f",
   "metadata": {},
   "source": [
    "There are 40 missing values for 'Placed order with restaurant datetime' (40/18078= 0.22%) and 4531 missing values for 'Driver at restaurant datetime' (4531/18078=25.06%). Due to the large amount of missing values for 'Driver at restaurant datetime' column, the plan is to \n",
    "- Drop the missing values for 'Placed order with restaurant datetime'\n",
    "- Perform missing value imputation for 'Driver at restaurant datetime' by taking the average between 'Placed order with restaurant datetime' and 'Delivered to consumer datetime'."
   ]
  },
  {
   "cell_type": "code",
   "execution_count": 6,
   "id": "4df8cb0e",
   "metadata": {},
   "outputs": [],
   "source": [
    "deliveries_data = deliveries_data.dropna(subset=['Placed order with restaurant datetime'])"
   ]
  },
  {
   "cell_type": "code",
   "execution_count": 7,
   "id": "fe5090c1",
   "metadata": {},
   "outputs": [
    {
     "data": {
      "text/html": [
       "<div>\n",
       "<style scoped>\n",
       "    .dataframe tbody tr th:only-of-type {\n",
       "        vertical-align: middle;\n",
       "    }\n",
       "\n",
       "    .dataframe tbody tr th {\n",
       "        vertical-align: top;\n",
       "    }\n",
       "\n",
       "    .dataframe thead th {\n",
       "        text-align: right;\n",
       "    }\n",
       "</style>\n",
       "<table border=\"1\" class=\"dataframe\">\n",
       "  <thead>\n",
       "    <tr style=\"text-align: right;\">\n",
       "      <th></th>\n",
       "      <th>Customer placed order datetime</th>\n",
       "      <th>Placed order with restaurant datetime</th>\n",
       "      <th>Driver at restaurant datetime</th>\n",
       "      <th>Delivered to consumer datetime</th>\n",
       "      <th>Driver ID</th>\n",
       "      <th>Restaurant ID</th>\n",
       "      <th>Consumer ID</th>\n",
       "      <th>Delivery Region</th>\n",
       "      <th>Is ASAP</th>\n",
       "      <th>Order total</th>\n",
       "      <th>Amount of discount</th>\n",
       "      <th>Amount of tip</th>\n",
       "      <th>Refunded amount</th>\n",
       "    </tr>\n",
       "  </thead>\n",
       "  <tbody>\n",
       "    <tr>\n",
       "      <th>8</th>\n",
       "      <td>2014-01-13 14:45:41-08:00</td>\n",
       "      <td>2014-01-13 15:22:33-08:00</td>\n",
       "      <td>NaT</td>\n",
       "      <td>2014-01-13 15:49:14-08:00</td>\n",
       "      <td>196</td>\n",
       "      <td>225</td>\n",
       "      <td>2469</td>\n",
       "      <td>Mountain View</td>\n",
       "      <td>False</td>\n",
       "      <td>35.85</td>\n",
       "      <td>0.0</td>\n",
       "      <td>2.00</td>\n",
       "      <td>0.0</td>\n",
       "    </tr>\n",
       "    <tr>\n",
       "      <th>11</th>\n",
       "      <td>2014-01-11 20:58:55-08:00</td>\n",
       "      <td>2014-01-11 20:59:31-08:00</td>\n",
       "      <td>NaT</td>\n",
       "      <td>2014-01-11 21:24:01-08:00</td>\n",
       "      <td>36</td>\n",
       "      <td>176</td>\n",
       "      <td>57150</td>\n",
       "      <td>San Jose</td>\n",
       "      <td>True</td>\n",
       "      <td>40.69</td>\n",
       "      <td>0.0</td>\n",
       "      <td>4.78</td>\n",
       "      <td>0.0</td>\n",
       "    </tr>\n",
       "    <tr>\n",
       "      <th>13</th>\n",
       "      <td>2014-01-27 08:49:32-08:00</td>\n",
       "      <td>2014-01-27 09:50:50-08:00</td>\n",
       "      <td>NaT</td>\n",
       "      <td>2014-01-27 10:25:00-08:00</td>\n",
       "      <td>343</td>\n",
       "      <td>259</td>\n",
       "      <td>14776</td>\n",
       "      <td>Palo Alto</td>\n",
       "      <td>False</td>\n",
       "      <td>58.09</td>\n",
       "      <td>0.0</td>\n",
       "      <td>2.90</td>\n",
       "      <td>0.0</td>\n",
       "    </tr>\n",
       "    <tr>\n",
       "      <th>18</th>\n",
       "      <td>2014-01-12 11:21:54-08:00</td>\n",
       "      <td>2014-01-12 11:25:02-08:00</td>\n",
       "      <td>NaT</td>\n",
       "      <td>2014-01-12 12:32:06-08:00</td>\n",
       "      <td>354</td>\n",
       "      <td>8</td>\n",
       "      <td>5783</td>\n",
       "      <td>Palo Alto</td>\n",
       "      <td>True</td>\n",
       "      <td>27.21</td>\n",
       "      <td>0.0</td>\n",
       "      <td>2.92</td>\n",
       "      <td>0.0</td>\n",
       "    </tr>\n",
       "    <tr>\n",
       "      <th>21</th>\n",
       "      <td>2014-01-05 18:32:46-08:00</td>\n",
       "      <td>2014-01-05 18:36:38-08:00</td>\n",
       "      <td>NaT</td>\n",
       "      <td>2014-01-05 19:30:03-08:00</td>\n",
       "      <td>115</td>\n",
       "      <td>53</td>\n",
       "      <td>4339</td>\n",
       "      <td>Palo Alto</td>\n",
       "      <td>True</td>\n",
       "      <td>49.45</td>\n",
       "      <td>0.0</td>\n",
       "      <td>1.99</td>\n",
       "      <td>0.0</td>\n",
       "    </tr>\n",
       "    <tr>\n",
       "      <th>...</th>\n",
       "      <td>...</td>\n",
       "      <td>...</td>\n",
       "      <td>...</td>\n",
       "      <td>...</td>\n",
       "      <td>...</td>\n",
       "      <td>...</td>\n",
       "      <td>...</td>\n",
       "      <td>...</td>\n",
       "      <td>...</td>\n",
       "      <td>...</td>\n",
       "      <td>...</td>\n",
       "      <td>...</td>\n",
       "      <td>...</td>\n",
       "    </tr>\n",
       "    <tr>\n",
       "      <th>18044</th>\n",
       "      <td>2014-01-28 18:29:39-08:00</td>\n",
       "      <td>2014-01-28 18:33:57-08:00</td>\n",
       "      <td>NaT</td>\n",
       "      <td>2014-01-28 19:00:44-08:00</td>\n",
       "      <td>357</td>\n",
       "      <td>96</td>\n",
       "      <td>36970</td>\n",
       "      <td>Palo Alto</td>\n",
       "      <td>True</td>\n",
       "      <td>62.01</td>\n",
       "      <td>0.0</td>\n",
       "      <td>7.72</td>\n",
       "      <td>0.0</td>\n",
       "    </tr>\n",
       "    <tr>\n",
       "      <th>18055</th>\n",
       "      <td>2014-01-29 11:11:58-08:00</td>\n",
       "      <td>2014-01-29 11:22:31-08:00</td>\n",
       "      <td>NaT</td>\n",
       "      <td>2014-01-29 11:56:28-08:00</td>\n",
       "      <td>216</td>\n",
       "      <td>3</td>\n",
       "      <td>198226</td>\n",
       "      <td>Palo Alto</td>\n",
       "      <td>True</td>\n",
       "      <td>16.82</td>\n",
       "      <td>6.0</td>\n",
       "      <td>2.00</td>\n",
       "      <td>0.0</td>\n",
       "    </tr>\n",
       "    <tr>\n",
       "      <th>18067</th>\n",
       "      <td>2014-01-29 18:17:32-08:00</td>\n",
       "      <td>2014-01-29 18:18:46-08:00</td>\n",
       "      <td>NaT</td>\n",
       "      <td>2014-01-29 18:53:18-08:00</td>\n",
       "      <td>216</td>\n",
       "      <td>20</td>\n",
       "      <td>199347</td>\n",
       "      <td>Palo Alto</td>\n",
       "      <td>True</td>\n",
       "      <td>16.33</td>\n",
       "      <td>6.0</td>\n",
       "      <td>0.82</td>\n",
       "      <td>0.0</td>\n",
       "    </tr>\n",
       "    <tr>\n",
       "      <th>18072</th>\n",
       "      <td>2014-01-30 10:05:04-08:00</td>\n",
       "      <td>2014-01-30 10:31:56-08:00</td>\n",
       "      <td>NaT</td>\n",
       "      <td>2014-01-30 11:26:56-08:00</td>\n",
       "      <td>290</td>\n",
       "      <td>347</td>\n",
       "      <td>69857</td>\n",
       "      <td>Mountain View</td>\n",
       "      <td>False</td>\n",
       "      <td>37.38</td>\n",
       "      <td>0.0</td>\n",
       "      <td>1.44</td>\n",
       "      <td>0.0</td>\n",
       "    </tr>\n",
       "    <tr>\n",
       "      <th>18073</th>\n",
       "      <td>2014-01-29 20:28:10-08:00</td>\n",
       "      <td>2014-01-29 20:29:52-08:00</td>\n",
       "      <td>NaT</td>\n",
       "      <td>2014-01-29 20:58:44-08:00</td>\n",
       "      <td>287</td>\n",
       "      <td>44</td>\n",
       "      <td>46332</td>\n",
       "      <td>Mountain View</td>\n",
       "      <td>True</td>\n",
       "      <td>44.99</td>\n",
       "      <td>0.0</td>\n",
       "      <td>6.00</td>\n",
       "      <td>0.0</td>\n",
       "    </tr>\n",
       "  </tbody>\n",
       "</table>\n",
       "<p>4514 rows × 13 columns</p>\n",
       "</div>"
      ],
      "text/plain": [
       "      Customer placed order datetime Placed order with restaurant datetime  \\\n",
       "8          2014-01-13 14:45:41-08:00             2014-01-13 15:22:33-08:00   \n",
       "11         2014-01-11 20:58:55-08:00             2014-01-11 20:59:31-08:00   \n",
       "13         2014-01-27 08:49:32-08:00             2014-01-27 09:50:50-08:00   \n",
       "18         2014-01-12 11:21:54-08:00             2014-01-12 11:25:02-08:00   \n",
       "21         2014-01-05 18:32:46-08:00             2014-01-05 18:36:38-08:00   \n",
       "...                              ...                                   ...   \n",
       "18044      2014-01-28 18:29:39-08:00             2014-01-28 18:33:57-08:00   \n",
       "18055      2014-01-29 11:11:58-08:00             2014-01-29 11:22:31-08:00   \n",
       "18067      2014-01-29 18:17:32-08:00             2014-01-29 18:18:46-08:00   \n",
       "18072      2014-01-30 10:05:04-08:00             2014-01-30 10:31:56-08:00   \n",
       "18073      2014-01-29 20:28:10-08:00             2014-01-29 20:29:52-08:00   \n",
       "\n",
       "      Driver at restaurant datetime Delivered to consumer datetime  Driver ID  \\\n",
       "8                               NaT      2014-01-13 15:49:14-08:00        196   \n",
       "11                              NaT      2014-01-11 21:24:01-08:00         36   \n",
       "13                              NaT      2014-01-27 10:25:00-08:00        343   \n",
       "18                              NaT      2014-01-12 12:32:06-08:00        354   \n",
       "21                              NaT      2014-01-05 19:30:03-08:00        115   \n",
       "...                             ...                            ...        ...   \n",
       "18044                           NaT      2014-01-28 19:00:44-08:00        357   \n",
       "18055                           NaT      2014-01-29 11:56:28-08:00        216   \n",
       "18067                           NaT      2014-01-29 18:53:18-08:00        216   \n",
       "18072                           NaT      2014-01-30 11:26:56-08:00        290   \n",
       "18073                           NaT      2014-01-29 20:58:44-08:00        287   \n",
       "\n",
       "       Restaurant ID  Consumer ID Delivery Region  Is ASAP  Order total  \\\n",
       "8                225         2469   Mountain View    False        35.85   \n",
       "11               176        57150        San Jose     True        40.69   \n",
       "13               259        14776       Palo Alto    False        58.09   \n",
       "18                 8         5783       Palo Alto     True        27.21   \n",
       "21                53         4339       Palo Alto     True        49.45   \n",
       "...              ...          ...             ...      ...          ...   \n",
       "18044             96        36970       Palo Alto     True        62.01   \n",
       "18055              3       198226       Palo Alto     True        16.82   \n",
       "18067             20       199347       Palo Alto     True        16.33   \n",
       "18072            347        69857   Mountain View    False        37.38   \n",
       "18073             44        46332   Mountain View     True        44.99   \n",
       "\n",
       "       Amount of discount  Amount of tip  Refunded amount  \n",
       "8                     0.0           2.00              0.0  \n",
       "11                    0.0           4.78              0.0  \n",
       "13                    0.0           2.90              0.0  \n",
       "18                    0.0           2.92              0.0  \n",
       "21                    0.0           1.99              0.0  \n",
       "...                   ...            ...              ...  \n",
       "18044                 0.0           7.72              0.0  \n",
       "18055                 6.0           2.00              0.0  \n",
       "18067                 6.0           0.82              0.0  \n",
       "18072                 0.0           1.44              0.0  \n",
       "18073                 0.0           6.00              0.0  \n",
       "\n",
       "[4514 rows x 13 columns]"
      ]
     },
     "execution_count": 7,
     "metadata": {},
     "output_type": "execute_result"
    }
   ],
   "source": [
    "deliveries_data[deliveries_data['Driver at restaurant datetime'].isna()]"
   ]
  },
  {
   "cell_type": "code",
   "execution_count": 8,
   "id": "498be1f2",
   "metadata": {},
   "outputs": [],
   "source": [
    "deliveries_data['Driver at restaurant datetime'] = deliveries_data.apply(lambda row: (row['Delivered to consumer datetime']-row['Placed order with restaurant datetime'])/2+row['Placed order with restaurant datetime'] if pd.isna(row['Driver at restaurant datetime']) else row['Driver at restaurant datetime'], axis=1)"
   ]
  },
  {
   "cell_type": "markdown",
   "id": "d5a1482f",
   "metadata": {},
   "source": [
    "## Part B: Compute for time-difference between customer, merchant, driver, and customer.\n",
    "\n",
    "Compute the following data and store them in the original deliveries_data dataframe for further analysis.\n",
    " - ***Customer-Merchant Time Diff (unit: seconds)***：= Place order with restaurant datetime - Customer placed order date time. It represents the amount of time delay between customer placing the order and restaurant receiving the order.\n",
    " - ***Merchant-Driver Time Diff (unit: seconds)***：= Driver at restaurant datetime - Placed order with restaurant datetime. It represents the amount of time delay between restaurant receiving the order and the driver arriving at the restaurant.\n",
    " - ***Driver-Consumer Time Diff (unit: seconds)***: = Delivered to consumer datetime - Driver at restaurant datetime. It represents the amount of time delay between the driver arriving at the restaurant and the customer receiving the order. "
   ]
  },
  {
   "cell_type": "code",
   "execution_count": 9,
   "id": "6cdf3723",
   "metadata": {},
   "outputs": [
    {
     "data": {
      "text/html": [
       "<div>\n",
       "<style scoped>\n",
       "    .dataframe tbody tr th:only-of-type {\n",
       "        vertical-align: middle;\n",
       "    }\n",
       "\n",
       "    .dataframe tbody tr th {\n",
       "        vertical-align: top;\n",
       "    }\n",
       "\n",
       "    .dataframe thead th {\n",
       "        text-align: right;\n",
       "    }\n",
       "</style>\n",
       "<table border=\"1\" class=\"dataframe\">\n",
       "  <thead>\n",
       "    <tr style=\"text-align: right;\">\n",
       "      <th></th>\n",
       "      <th>Customer placed order datetime</th>\n",
       "      <th>Placed order with restaurant datetime</th>\n",
       "      <th>Driver at restaurant datetime</th>\n",
       "      <th>Delivered to consumer datetime</th>\n",
       "      <th>Driver ID</th>\n",
       "      <th>Restaurant ID</th>\n",
       "      <th>Consumer ID</th>\n",
       "      <th>Delivery Region</th>\n",
       "      <th>Is ASAP</th>\n",
       "      <th>Order total</th>\n",
       "      <th>Amount of discount</th>\n",
       "      <th>Amount of tip</th>\n",
       "      <th>Refunded amount</th>\n",
       "      <th>Customer-Merchant time diff</th>\n",
       "      <th>Merchant-Driver time diff</th>\n",
       "      <th>Driver-Consumer time diff</th>\n",
       "    </tr>\n",
       "  </thead>\n",
       "  <tbody>\n",
       "    <tr>\n",
       "      <th>0</th>\n",
       "      <td>2013-12-31 18:52:12-08:00</td>\n",
       "      <td>2013-12-31 19:00:25-08:00</td>\n",
       "      <td>2013-12-31 19:08:09-08:00</td>\n",
       "      <td>2013-12-31 19:35:20-08:00</td>\n",
       "      <td>279</td>\n",
       "      <td>50</td>\n",
       "      <td>6738</td>\n",
       "      <td>Mountain View</td>\n",
       "      <td>True</td>\n",
       "      <td>16.33</td>\n",
       "      <td>0.0</td>\n",
       "      <td>0.82</td>\n",
       "      <td>0.0</td>\n",
       "      <td>493</td>\n",
       "      <td>464</td>\n",
       "      <td>1631</td>\n",
       "    </tr>\n",
       "    <tr>\n",
       "      <th>1</th>\n",
       "      <td>2014-01-13 07:58:57-08:00</td>\n",
       "      <td>2014-01-13 09:56:45-08:00</td>\n",
       "      <td>2014-01-13 10:24:39-08:00</td>\n",
       "      <td>2014-01-13 10:57:01-08:00</td>\n",
       "      <td>303</td>\n",
       "      <td>96</td>\n",
       "      <td>64746</td>\n",
       "      <td>Palo Alto</td>\n",
       "      <td>True</td>\n",
       "      <td>76.14</td>\n",
       "      <td>0.0</td>\n",
       "      <td>6.45</td>\n",
       "      <td>0.0</td>\n",
       "      <td>7068</td>\n",
       "      <td>1674</td>\n",
       "      <td>1942</td>\n",
       "    </tr>\n",
       "    <tr>\n",
       "      <th>2</th>\n",
       "      <td>2014-01-17 11:02:37-08:00</td>\n",
       "      <td>2014-01-17 11:12:51-08:00</td>\n",
       "      <td>2014-01-17 11:19:59-08:00</td>\n",
       "      <td>2014-01-17 11:31:09-08:00</td>\n",
       "      <td>212</td>\n",
       "      <td>190</td>\n",
       "      <td>12484</td>\n",
       "      <td>San Jose</td>\n",
       "      <td>True</td>\n",
       "      <td>16.77</td>\n",
       "      <td>6.0</td>\n",
       "      <td>2.52</td>\n",
       "      <td>0.0</td>\n",
       "      <td>614</td>\n",
       "      <td>428</td>\n",
       "      <td>670</td>\n",
       "    </tr>\n",
       "    <tr>\n",
       "      <th>3</th>\n",
       "      <td>2014-01-11 20:01:57-08:00</td>\n",
       "      <td>2014-01-11 20:08:18-08:00</td>\n",
       "      <td>2014-01-11 20:13:02-08:00</td>\n",
       "      <td>2014-01-11 20:37:57-08:00</td>\n",
       "      <td>352</td>\n",
       "      <td>194</td>\n",
       "      <td>13920</td>\n",
       "      <td>San Jose</td>\n",
       "      <td>True</td>\n",
       "      <td>25.03</td>\n",
       "      <td>0.0</td>\n",
       "      <td>5.00</td>\n",
       "      <td>0.0</td>\n",
       "      <td>381</td>\n",
       "      <td>284</td>\n",
       "      <td>1495</td>\n",
       "    </tr>\n",
       "    <tr>\n",
       "      <th>4</th>\n",
       "      <td>2014-01-08 15:46:38-08:00</td>\n",
       "      <td>2014-01-08 15:49:32-08:00</td>\n",
       "      <td>2014-01-08 15:54:29-08:00</td>\n",
       "      <td>2014-01-08 16:37:15-08:00</td>\n",
       "      <td>313</td>\n",
       "      <td>9</td>\n",
       "      <td>7037</td>\n",
       "      <td>Palo Alto</td>\n",
       "      <td>True</td>\n",
       "      <td>51.57</td>\n",
       "      <td>0.0</td>\n",
       "      <td>5.16</td>\n",
       "      <td>0.0</td>\n",
       "      <td>174</td>\n",
       "      <td>297</td>\n",
       "      <td>2566</td>\n",
       "    </tr>\n",
       "  </tbody>\n",
       "</table>\n",
       "</div>"
      ],
      "text/plain": [
       "  Customer placed order datetime Placed order with restaurant datetime  \\\n",
       "0      2013-12-31 18:52:12-08:00             2013-12-31 19:00:25-08:00   \n",
       "1      2014-01-13 07:58:57-08:00             2014-01-13 09:56:45-08:00   \n",
       "2      2014-01-17 11:02:37-08:00             2014-01-17 11:12:51-08:00   \n",
       "3      2014-01-11 20:01:57-08:00             2014-01-11 20:08:18-08:00   \n",
       "4      2014-01-08 15:46:38-08:00             2014-01-08 15:49:32-08:00   \n",
       "\n",
       "  Driver at restaurant datetime Delivered to consumer datetime  Driver ID  \\\n",
       "0     2013-12-31 19:08:09-08:00      2013-12-31 19:35:20-08:00        279   \n",
       "1     2014-01-13 10:24:39-08:00      2014-01-13 10:57:01-08:00        303   \n",
       "2     2014-01-17 11:19:59-08:00      2014-01-17 11:31:09-08:00        212   \n",
       "3     2014-01-11 20:13:02-08:00      2014-01-11 20:37:57-08:00        352   \n",
       "4     2014-01-08 15:54:29-08:00      2014-01-08 16:37:15-08:00        313   \n",
       "\n",
       "   Restaurant ID  Consumer ID Delivery Region  Is ASAP  Order total  \\\n",
       "0             50         6738   Mountain View     True        16.33   \n",
       "1             96        64746       Palo Alto     True        76.14   \n",
       "2            190        12484        San Jose     True        16.77   \n",
       "3            194        13920        San Jose     True        25.03   \n",
       "4              9         7037       Palo Alto     True        51.57   \n",
       "\n",
       "   Amount of discount  Amount of tip  Refunded amount  \\\n",
       "0                 0.0           0.82              0.0   \n",
       "1                 0.0           6.45              0.0   \n",
       "2                 6.0           2.52              0.0   \n",
       "3                 0.0           5.00              0.0   \n",
       "4                 0.0           5.16              0.0   \n",
       "\n",
       "   Customer-Merchant time diff  Merchant-Driver time diff  \\\n",
       "0                          493                        464   \n",
       "1                         7068                       1674   \n",
       "2                          614                        428   \n",
       "3                          381                        284   \n",
       "4                          174                        297   \n",
       "\n",
       "   Driver-Consumer time diff  \n",
       "0                       1631  \n",
       "1                       1942  \n",
       "2                        670  \n",
       "3                       1495  \n",
       "4                       2566  "
      ]
     },
     "execution_count": 9,
     "metadata": {},
     "output_type": "execute_result"
    }
   ],
   "source": [
    "deliveries_data['Customer-Merchant time diff'] = (deliveries_data['Placed order with restaurant datetime']\n",
    "                                                                        - deliveries_data['Customer placed order datetime']).dt.seconds\n",
    "\n",
    "deliveries_data['Merchant-Driver time diff'] = (deliveries_data['Driver at restaurant datetime']\n",
    "                                                                        - deliveries_data['Placed order with restaurant datetime']).dt.seconds\n",
    "\n",
    "deliveries_data['Driver-Consumer time diff'] = (deliveries_data['Delivered to consumer datetime'] \n",
    "                                                                        - deliveries_data['Driver at restaurant datetime']).dt.seconds\n",
    "deliveries_data.head()"
   ]
  },
  {
   "cell_type": "markdown",
   "id": "d2ed218c",
   "metadata": {},
   "source": [
    " ## Part C: Number of orders vs Hour of the Day\n",
    " ***Discussion:***\n",
    " From the 'Number of Orders placed per hour of the day' plot, it shows that the signicant order amounts are placed between 9AM-12PM and 16PM-19PM, which coincides with the time range of lunch and dinner. As a result, it is important to keep in mind that these hours are the peak-hours. Peak-hours create a greater inflow of orders and traffic to all the network members: DoorDash, customers, merchants, and drivers/dashers."
   ]
  },
  {
   "cell_type": "code",
   "execution_count": 10,
   "id": "355c81d4",
   "metadata": {},
   "outputs": [
    {
     "data": {
      "image/png": "[encoded data removed]",
      "text/plain": [
       "<Figure size 432x288 with 1 Axes>"
      ]
     },
     "metadata": {
      "needs_background": "light"
     },
     "output_type": "display_data"
    }
   ],
   "source": [
    "deliveries_data['customer_order_hours'] = deliveries_data['Customer placed order datetime'].dt.hour\n",
    "num_order_per_hour = deliveries_data.groupby('customer_order_hours').count().iloc[:, 0]\n",
    "\n",
    "plt.bar(num_order_per_hour.index, num_order_per_hour.values)\n",
    "plt.title('Number of Orders placed per hour of the day')\n",
    "plt.ylabel('Number of Orders')\n",
    "plt.xlabel('Hour of the Day')\n",
    "plt.xticks(np.arange(min(num_order_per_hour.index),max(num_order_per_hour.index)+1,1))\n",
    "plt.show()"
   ]
  },
  {
   "cell_type": "markdown",
   "id": "010573c2",
   "metadata": {},
   "source": [
    "## Part D: Regional impact on orders and drivers\n",
    "The goal of this section is to understand if specific regions have any impacts and correlations on the orders and drivers counts per hour. Business recommedations may vary a lot by regions since food delivery can be highly impacted by hyperlocal environment variables, even if the three regions covered in this dataset are all in the same larger geographical area of California."
   ]
  },
  {
   "cell_type": "code",
   "execution_count": 11,
   "id": "f3f5b31b",
   "metadata": {},
   "outputs": [],
   "source": [
    "# Define funcitons to plot\n",
    "def plot_region_graph(df, title, ylabel):\n",
    "    plt.plot(df['Mountain View'].index, df['Mountain View'].values, label='Mountain View')\n",
    "    plt.plot(df['Palo Alto'].index, df['Palo Alto'].values, label='Palo Alto')\n",
    "    plt.plot(df['San Jose'].index, df['San Jose'].values, label='San Jose')\n",
    "    plt.legend()\n",
    "    plt.title(title)\n",
    "    plt.xlabel('Hour of the Day')\n",
    "    plt.ylabel(ylabel)\n",
    "    plt.xticks(np.arange(0,24,1))\n",
    "    plt.show()\n",
    "\n",
    "def plot_normalized_region_graph(df1, df2, title, ylabel):\n",
    "    plt.plot(df1['Mountain View'].index, df1['Mountain View'].values/df2['Mountain View'], label='Mountain View')\n",
    "    plt.plot(df1['Palo Alto'].index, df1['Palo Alto'].values/df2['Palo Alto'], label='Palo Alto')\n",
    "    plt.plot(df1['San Jose'].index, df1['San Jose'].values/df2['San Jose'], label='San Jose')\n",
    "    plt.legend()\n",
    "    plt.title(title)\n",
    "    plt.xlabel('Hour of the Day')\n",
    "    plt.ylabel(ylabel)\n",
    "    plt.xticks(np.arange(0,24,1))\n",
    "    plt.show()"
   ]
  },
  {
   "cell_type": "markdown",
   "id": "7056cef6",
   "metadata": {},
   "source": [
    "***Orders per Hour at Each Region Discussion***:\n",
    "\n",
    "The trends in Orders count per hour at each region plot are similar to that in the Number of Orders placed per hour of the day plot in Part C. Palo Alto has a siginificantly higher amount of orders per hour at peaks hours than Mountain View and San Jose, indicating that it is a bigger market. \n",
    "\n",
    "I further looked into how many unique consumers, restaurants, and drivers are in each region. Although there are a higher number of restaurantsin the San Jose area (155, compared to 148 in Palo Alto and 110 in Mountain View), they have the least number of orders among the three regions. This leads to several business proposals that needs further verification to boost the business in the San Jose area: improvement on the quality of restaurants, and promotions and marketing campaigns to boost conversion for new customers. \n",
    "\n",
    "The Normalized Orders per hour is the orders per hour divided by the total order amount at each region. It shows the normalized orders counts per hour are similar for all 3 regions."
   ]
  },
  {
   "cell_type": "code",
   "execution_count": 12,
   "id": "c66463d4",
   "metadata": {},
   "outputs": [
    {
     "name": "stdout",
     "output_type": "stream",
     "text": [
      "Delivery Region\n",
      "Mountain View     3750\n",
      "None                21\n",
      "Palo Alto        11409\n",
      "San Jose          2858\n",
      "Name: Customer placed order datetime, dtype: int64\n"
     ]
    },
    {
     "data": {
      "image/png": "[encoded data removed]",
      "text/plain": [
       "<Figure size 432x288 with 1 Axes>"
      ]
     },
     "metadata": {
      "needs_background": "light"
     },
     "output_type": "display_data"
    },
    {
     "data": {
      "image/png": "[encoded data removed]",
      "text/plain": [
       "<Figure size 432x288 with 1 Axes>"
      ]
     },
     "metadata": {
      "needs_background": "light"
     },
     "output_type": "display_data"
    },
    {
     "name": "stdout",
     "output_type": "stream",
     "text": [
      "Delivery Region\n",
      "Mountain View    110\n",
      "None              12\n",
      "Palo Alto        148\n",
      "San Jose         155\n",
      "Name: Restaurant ID, dtype: int64\n"
     ]
    }
   ],
   "source": [
    "# Order count\n",
    "order_count_df = deliveries_data.groupby(['Delivery Region', 'customer_order_hours']).count().iloc[:, 0]\n",
    "total_order_count_df = deliveries_data.groupby('Delivery Region').count().iloc[:, 0]\n",
    "print(total_order_count_df)\n",
    "\n",
    "plot_region_graph(order_count_df, 'Orders per Hour at Each Region', 'Orders Amount')\n",
    "plot_normalized_region_graph(order_count_df, total_order_count_df, 'Normalized Orders per Hour at Each Region', 'Orders/Total Orders Amount')\n",
    "\n",
    "print(deliveries_data.groupby(['Delivery Region']).nunique()['Restaurant ID'])"
   ]
  },
  {
   "cell_type": "markdown",
   "id": "6d0b4b35",
   "metadata": {},
   "source": [
    "***Drivers per Hour at Each Region Discussion***:\n",
    "\n",
    "The drivers count per hour at each region shows they are similar to the 'Number of Orders placed per hour of the day' plot in Part C.\n",
    "\n",
    "Palo Alto has a siginificantly higher amount of drivers per hour at peaks hours than Mountain View and San Jose. The Normalized Drivers per hour is the drivers per hour divided by the total drivers amount at each region. It shows the normalized orders drivers per hour are similar for all 3 regions."
   ]
  },
  {
   "cell_type": "code",
   "execution_count": 13,
   "id": "01349c22",
   "metadata": {},
   "outputs": [
    {
     "name": "stdout",
     "output_type": "stream",
     "text": [
      "Delivery Region\n",
      "Mountain View    134\n",
      "None               9\n",
      "Palo Alto        237\n",
      "San Jose          90\n",
      "Name: Driver ID, dtype: int64\n"
     ]
    },
    {
     "data": {
      "image/png": "[encoded data removed]",
      "text/plain": [
       "<Figure size 432x288 with 1 Axes>"
      ]
     },
     "metadata": {
      "needs_background": "light"
     },
     "output_type": "display_data"
    },
    {
     "data": {
      "image/png": "[encoded data removed]",
      "text/plain": [
       "<Figure size 432x288 with 1 Axes>"
      ]
     },
     "metadata": {
      "needs_background": "light"
     },
     "output_type": "display_data"
    }
   ],
   "source": [
    "# Driver count\n",
    "driver_count_df = deliveries_data.groupby(['Delivery Region', 'customer_order_hours']).nunique()['Driver ID']\n",
    "total_driver_count_df = deliveries_data.groupby('Delivery Region').nunique()['Driver ID']\n",
    "print(total_driver_count_df)\n",
    "\n",
    "plot_region_graph(driver_count_df, 'Drivers per Hour at Each Region', 'Drivers Amount')\n",
    "plot_normalized_region_graph(driver_count_df, total_driver_count_df, 'Normalized Drivers per Hour at Each Region', 'Drivers/Total Drivers Count')"
   ]
  },
  {
   "cell_type": "markdown",
   "id": "80883a14",
   "metadata": {},
   "source": [
    "***Average order amount per driver per hour-region***:\n",
    "\n",
    "The average order count per driver per hour-region region shows they are similar to the 'Number of Orders placed per hour of the day' plot in Part C. Mountain View has a siginificantly higher average order amount per driver per hour at peaks hours than Palo Alot and San Jose. With an estimated of maximium of 12 average orders per driver at peak-hour of 17PM, each driver would have to deliver each order in 5 minutes to the customer.\n",
    "\n",
    "    - Mountain View: max of average 12 orders per hour per driver with average 5 minutes delivery time to the customers.\n",
    "    - Palo Alto: max of average 10 orders per hour per driver with average 6 minutes delivery time to the customers.\n",
    "    - San Jose: max of average 9 orders per hour per driver with average 6.67 minutes delivery time to the customers.\n",
    "    \n",
    "Based on these computed metrics, there are too many orders per hour each driver needs to deliver at each region. With the expected average of 5 minutes delivery time, there are many factors like traffic, unexpected delays at the merchants, and other etc. in real life that most likely delay the drivers to deliver the orders successfully within 5 minutes.\n",
    "\n",
    "In later part of this project, I computed the average delivery time from drivers getting to the merchants until customers getting the orders with 'Driver-Consumer Time Diff' computed in Part B. This would be used to compare to the computed average delivery time in this section."
   ]
  },
  {
   "cell_type": "code",
   "execution_count": 14,
   "id": "5a0f9968",
   "metadata": {},
   "outputs": [
    {
     "data": {
      "image/png": "[encoded data removed]",
      "text/plain": [
       "<Figure size 432x288 with 1 Axes>"
      ]
     },
     "metadata": {
      "needs_background": "light"
     },
     "output_type": "display_data"
    }
   ],
   "source": [
    "# Average order amount per driver per hour-region\n",
    "avg_order_per_driver_df = order_count_df / driver_count_df\n",
    "plot_region_graph(avg_order_per_driver_df, 'Average Orders per Driver per hour-Region', 'Average Orders per Drivers per-hour-region')"
   ]
  },
  {
   "cell_type": "markdown",
   "id": "73604b8b",
   "metadata": {},
   "source": [
    "***Correlation between Time and region***:\n",
    "Computed the correlation between total time, Customer-Merchant time diff, Merchant-Driver time diff, Driver-Consumer time diff at reach region for on-demand deliveries (Is ASAP=True). The goal is understand if each of the times has an impact to the order count for each region. With a threshold of p-value of 0.005, the following relations are significant:\n",
    "\n",
    "   - Total Time at San Jose: corr (78.43%) and p-value(0.004)\n",
    "   - Customer-Merchant time diff at San Jose: corr (87.6%) and p-value (0.004)\n",
    "   - Driver-Consumer time diff at Mountain View: corr (63.7%) and p-value (0.048)\n"
   ]
  },
  {
   "cell_type": "code",
   "execution_count": 15,
   "id": "737bd2ac",
   "metadata": {},
   "outputs": [
    {
     "name": "stdout",
     "output_type": "stream",
     "text": [
      "total_time\n",
      "Mountain View\n",
      "(0.6455699582340158, 0.043792976590208685)\n",
      "Palo Alto\n",
      "(0.48499914185215814, 0.13051635148615318)\n",
      "San Jose\n",
      "(0.7842945348691469, 0.004265603761576214)\n",
      "\n",
      "Customer-Merchant time diff\n",
      "Mountain View\n",
      "(0.35320833534094936, 0.31674777264775705)\n",
      "Palo Alto\n",
      "(0.05019960429690061, 0.8834677709883043)\n",
      "San Jose\n",
      "(0.8755462210721865, 0.0004127718592269526)\n",
      "\n",
      "Merchant-Driver time diff\n",
      "Mountain View\n",
      "(-0.16565190735657945, 0.647417266526263)\n",
      "Palo Alto\n",
      "(0.07802902303182761, 0.8196166497044405)\n",
      "San Jose\n",
      "(-0.12344149940457094, 0.717653455892287)\n",
      "\n",
      "Driver-Consumer time diff\n",
      "Mountain View\n",
      "(0.6369353706324388, 0.047648707378568564)\n",
      "Palo Alto\n",
      "(0.05435817603528598, 0.8738780930268607)\n",
      "San Jose\n",
      "(0.3659147440133548, 0.2684193809655844)\n",
      "\n"
     ]
    }
   ],
   "source": [
    "deliveries_data['total_time'] = (deliveries_data['Delivered to consumer datetime']\n",
    "                                                - deliveries_data['Customer placed order datetime']).dt.seconds\n",
    "\n",
    "for col in ['total_time', 'Customer-Merchant time diff', 'Merchant-Driver time diff', 'Driver-Consumer time diff']:\n",
    "    print(col)\n",
    "    for region in ['Mountain View', 'Palo Alto', 'San Jose']:\n",
    "        print(region)\n",
    "        print(ss.pearsonr(deliveries_data[deliveries_data['Is ASAP']==True].groupby(['Delivery Region', 'customer_order_hours']).count().iloc[:,0][region].loc[10:20], \n",
    "                     deliveries_data[deliveries_data['Is ASAP']==True].groupby(['Delivery Region', 'customer_order_hours']).mean()[col][region].loc[10:20]))\n",
    "    print('')"
   ]
  },
  {
   "cell_type": "markdown",
   "id": "24456637",
   "metadata": {},
   "source": [
    "## Part E: Time-Diff per hour of the day\n",
    "Examine the total time, Customer-Merchant time diff, Merchant-Driver time diff, Driver-Consumer time diff per hour of teh day. The goal is to understand what are the average times for each time-diff and come up with business recommendations to improve business.\n",
    "\n",
    "Looking at the is_ASAP table below, there is a big difference between on-demand and scheduled orders for total time from customer placing the order and receiving the orders and the Customer-Merchant time diff. As a reuslt, my assumption is to only use on-demand orders to compute the time-diff per hour of the day in the this section."
   ]
  },
  {
   "cell_type": "code",
   "execution_count": 16,
   "id": "32ee0342",
   "metadata": {},
   "outputs": [
    {
     "data": {
      "text/html": [
       "<div>\n",
       "<style scoped>\n",
       "    .dataframe tbody tr th:only-of-type {\n",
       "        vertical-align: middle;\n",
       "    }\n",
       "\n",
       "    .dataframe tbody tr th {\n",
       "        vertical-align: top;\n",
       "    }\n",
       "\n",
       "    .dataframe thead th {\n",
       "        text-align: right;\n",
       "    }\n",
       "</style>\n",
       "<table border=\"1\" class=\"dataframe\">\n",
       "  <thead>\n",
       "    <tr style=\"text-align: right;\">\n",
       "      <th></th>\n",
       "      <th>total_time</th>\n",
       "      <th>Customer-Merchant time diff</th>\n",
       "      <th>Merchant-Driver time diff</th>\n",
       "      <th>Driver-Consumer time diff</th>\n",
       "    </tr>\n",
       "    <tr>\n",
       "      <th>Is ASAP</th>\n",
       "      <th></th>\n",
       "      <th></th>\n",
       "      <th></th>\n",
       "      <th></th>\n",
       "    </tr>\n",
       "  </thead>\n",
       "  <tbody>\n",
       "    <tr>\n",
       "      <th>False</th>\n",
       "      <td>9339.185576</td>\n",
       "      <td>6447.533426</td>\n",
       "      <td>2439.833564</td>\n",
       "      <td>1530.191401</td>\n",
       "    </tr>\n",
       "    <tr>\n",
       "      <th>True</th>\n",
       "      <td>2801.389039</td>\n",
       "      <td>437.395829</td>\n",
       "      <td>1525.971662</td>\n",
       "      <td>1424.553592</td>\n",
       "    </tr>\n",
       "  </tbody>\n",
       "</table>\n",
       "</div>"
      ],
      "text/plain": [
       "          total_time  Customer-Merchant time diff  Merchant-Driver time diff  \\\n",
       "Is ASAP                                                                        \n",
       "False    9339.185576                  6447.533426                2439.833564   \n",
       "True     2801.389039                   437.395829                1525.971662   \n",
       "\n",
       "         Driver-Consumer time diff  \n",
       "Is ASAP                             \n",
       "False                  1530.191401  \n",
       "True                   1424.553592  "
      ]
     },
     "execution_count": 16,
     "metadata": {},
     "output_type": "execute_result"
    }
   ],
   "source": [
    "deliveries_data.groupby('Is ASAP').mean()[['total_time', 'Customer-Merchant time diff', 'Merchant-Driver time diff', 'Driver-Consumer time diff']]"
   ]
  },
  {
   "cell_type": "code",
   "execution_count": 17,
   "id": "089110ea",
   "metadata": {},
   "outputs": [
    {
     "name": "stdout",
     "output_type": "stream",
     "text": [
      "Average customer-merchant order time difference from 7AM-9PM: 1369.239478023042 seconds or 22.8206579670507 minutes\n",
      "Average customer-merchant order time difference from 10AM-9PM: 373.1743475288024 seconds or 6.219572458813373 minutes\n"
     ]
    },
    {
     "data": {
      "image/png": "[encoded data removed]",
      "text/plain": [
       "<Figure size 432x288 with 1 Axes>"
      ]
     },
     "metadata": {
      "needs_background": "light"
     },
     "output_type": "display_data"
    }
   ],
   "source": [
    "deliveries_data_is_asap_df = deliveries_data[deliveries_data['Is ASAP']==True]\n",
    "cust_merch_timediff_per_hour = deliveries_data_is_asap_df.groupby('customer_order_hours').mean()['Customer-Merchant time diff']\n",
    "\n",
    "print('Average customer-merchant order time difference from 7AM-9PM:', cust_merch_timediff_per_hour.loc[7:21].mean(), 'seconds or',cust_merch_timediff_per_hour.loc[7:21].mean()/60,'minutes')\n",
    "print('Average customer-merchant order time difference from 10AM-9PM:', cust_merch_timediff_per_hour.loc[10:21].mean(), 'seconds or',cust_merch_timediff_per_hour.loc[10:21].mean()/60,'minutes')\n",
    "\n",
    "plt.bar(cust_merch_timediff_per_hour.index, cust_merch_timediff_per_hour)\n",
    "plt.title('Customer-Merchant Order Time Difference per hour of the day')\n",
    "plt.ylabel('Seconds')\n",
    "plt.xlabel('Hour of the Day')\n",
    "plt.show()"
   ]
  },
  {
   "cell_type": "code",
   "execution_count": 18,
   "id": "db504b17",
   "metadata": {},
   "outputs": [
    {
     "name": "stdout",
     "output_type": "stream",
     "text": [
      "Average merchant-driver order time difference from 7AM-8PM: 1493.8625536154602 seconds or 24.897709226924338 minutes\n"
     ]
    },
    {
     "data": {
      "image/png": "[encoded data removed]",
      "text/plain": [
       "<Figure size 432x288 with 1 Axes>"
      ]
     },
     "metadata": {
      "needs_background": "light"
     },
     "output_type": "display_data"
    }
   ],
   "source": [
    "merch_driver_timediff_per_hour = deliveries_data_is_asap_df.groupby('customer_order_hours').mean()['Merchant-Driver time diff']\n",
    "print('Average merchant-driver order time difference from 7AM-8PM:', merch_driver_timediff_per_hour.loc[7:20].mean(), 'seconds or', merch_driver_timediff_per_hour.loc[7:20].mean()/60,'minutes')\n",
    "\n",
    "plt.bar(merch_driver_timediff_per_hour.index, merch_driver_timediff_per_hour)\n",
    "plt.title('Merchant-Driver Order Time Difference per hour of the day')\n",
    "plt.ylabel('Seconds')\n",
    "plt.xlabel('Hour of the Day')\n",
    "plt.show()"
   ]
  },
  {
   "cell_type": "code",
   "execution_count": 19,
   "id": "3346a19c",
   "metadata": {},
   "outputs": [
    {
     "name": "stdout",
     "output_type": "stream",
     "text": [
      "Average driver-consumer delivery time difference from 7AM-8PM: 1558.113389574523 seconds or 25.968556492908714 minutes\n"
     ]
    },
    {
     "data": {
      "image/png": "[encoded data removed]",
      "text/plain": [
       "<Figure size 432x288 with 1 Axes>"
      ]
     },
     "metadata": {
      "needs_background": "light"
     },
     "output_type": "display_data"
    }
   ],
   "source": [
    "driver_consumer_timediff_per_hour = deliveries_data_is_asap_df.groupby('customer_order_hours').mean()['Driver-Consumer time diff']\n",
    "print('Average driver-consumer delivery time difference from 7AM-8PM:', driver_consumer_timediff_per_hour.loc[7:21].mean(), 'seconds or',driver_consumer_timediff_per_hour.loc[7:21].mean()/60,'minutes')\n",
    "\n",
    "plt.bar(driver_consumer_timediff_per_hour.index, driver_consumer_timediff_per_hour)\n",
    "plt.title('Driver-Consumer Delivery Time Difference per hour of the day')\n",
    "plt.ylabel('Seconds')\n",
    "plt.xlabel('Hour of the Day')\n",
    "plt.show()"
   ]
  },
  {
   "cell_type": "code",
   "execution_count": 20,
   "id": "8748fbfa",
   "metadata": {},
   "outputs": [
    {
     "name": "stdout",
     "output_type": "stream",
     "text": [
      "Average total time for customers from ordering to receiving the orders during 10AM to 8PM is 55.02 minutes\n",
      "\n",
      "From customers placing the orders until the merchants receiving the orders, there are average of 6.63 minutes of delay, which is about 12.05 % of average total time\n",
      "\n",
      "From merchants receiving the orders until the drivers arriving at the merchants, there are average of 25.18 minutes of delay, which is about 45.77 % of average total time\n",
      "\n",
      "From drivers arriving at the merchants until delivering the goods to the customers, there are average of 23.2 minutes of delay, which is about 42.17 % of average total time\n"
     ]
    }
   ],
   "source": [
    "start_hour, end_hour = 10, 20\n",
    "average_total_time_order_receive = round(cust_merch_timediff_per_hour.loc[start_hour:end_hour].mean()/60 + merch_driver_timediff_per_hour.loc[start_hour:end_hour].mean()/60 + driver_consumer_timediff_per_hour.loc[start_hour:end_hour].mean()/60, 2)\n",
    "print('Average total time for customers from ordering to receiving the orders during 10AM to 8PM is', average_total_time_order_receive, 'minutes')\n",
    "print('')\n",
    "print('From customers placing the orders until the merchants receiving the orders, there are average of',\n",
    "      round(cust_merch_timediff_per_hour.loc[start_hour:end_hour].mean()/60, 2),'minutes of delay, which is about', \n",
    "      round(cust_merch_timediff_per_hour.loc[start_hour:end_hour].mean()/60/average_total_time_order_receive*100, 2),'% of average total time')\n",
    "print('')\n",
    "print('From merchants receiving the orders until the drivers arriving at the merchants, there are average of',\n",
    "      round(merch_driver_timediff_per_hour.loc[start_hour:end_hour].mean()/60, 2),'minutes of delay, which is about', \n",
    "      round(merch_driver_timediff_per_hour.loc[start_hour:end_hour].mean()/60/average_total_time_order_receive*100, 2),'% of average total time')\n",
    "print('')\n",
    "print('From drivers arriving at the merchants until delivering the goods to the customers, there are average of',\n",
    "      round(driver_consumer_timediff_per_hour.loc[start_hour:end_hour].mean()/60, 2),'minutes of delay, which is about', \n",
    "      round(driver_consumer_timediff_per_hour.loc[start_hour:end_hour].mean()/60/average_total_time_order_receive*100, 2),'% of average total time')"
   ]
  },
  {
   "cell_type": "markdown",
   "id": "2b2fe201",
   "metadata": {},
   "source": [
    "***Discussion***:\n",
    "Looking at the average metrics computed above, there are significant improvements that could be made to expedite the total time from customers ordering and receiving the orders as well as each of the time-diff. \n",
    "\n",
    "Comparing this to the average 5 minutes drivers have to deliver maximum of 12 orders per hour at Palo Alto in Part D, the drivers take a total average of 23.2 minutes to deliver an order to a customer. I assume that when the drivers arrive at the merchants, the orders are ready at the merchants. This is almost 5 times slower than the expected average delivery time (23.2/5 = 4.64 times).\n",
    "\n",
    "Some of the potential causes that I can think of are the following for each time-diff:\n",
    "\n",
    "***Customer-Merchant Time Diff: ineffiency/delay at merchants***: \n",
    " - Peak-hours: too many orders amd/or too little employees\n",
    " - Lack of training: not famiilar with the DoorDash platform\n",
    "\n",
    "***Merchant-Driver Time Diff: inefficiency/delay at merchants and/or driver***:\n",
    " - Peak-hours: merchants are not finished with the food prep and the orders\n",
    " - Peak-hours traffic: Drivers are not ready to pick up food when food is ready at the merchants\n",
    " - Not enough drivers per toal order amount in region\n",
    " \n",
    "***Driver-Consumer Time Diff: inefficiency/delay at driver***:\n",
    " - Peak-hours traffic\n",
    " - Too many places to deliver\n",
    " - Not enough drivers and cover long distances"
   ]
  },
  {
   "cell_type": "code",
   "execution_count": 21,
   "id": "57dcfc8c",
   "metadata": {},
   "outputs": [
    {
     "name": "stdout",
     "output_type": "stream",
     "text": [
      "                            OLS Regression Results                            \n",
      "==============================================================================\n",
      "Dep. Variable:                      y   R-squared:                       0.032\n",
      "Model:                            OLS   Adj. R-squared:                 -0.025\n",
      "Method:                 Least Squares   F-statistic:                    0.5651\n",
      "Date:                Fri, 16 Jul 2021   Prob (F-statistic):              0.574\n",
      "Time:                        16:51:00   Log-Likelihood:                -332.36\n",
      "No. Observations:                  37   AIC:                             670.7\n",
      "Df Residuals:                      34   BIC:                             675.5\n",
      "Df Model:                           2                                         \n",
      "Covariance Type:            nonrobust                                         \n",
      "==============================================================================\n",
      "                 coef    std err          t      P>|t|      [0.025      0.975]\n",
      "------------------------------------------------------------------------------\n",
      "const       2374.1342    605.258      3.923      0.000    1144.102    3604.167\n",
      "x1             0.2871      1.862      0.154      0.878      -3.497       4.071\n",
      "x2            -9.6680     18.033     -0.536      0.595     -46.315      26.979\n",
      "==============================================================================\n",
      "Omnibus:                       70.424   Durbin-Watson:                   1.959\n",
      "Prob(Omnibus):                  0.000   Jarque-Bera (JB):              855.937\n",
      "Skew:                           4.435   Prob(JB):                    1.37e-186\n",
      "Kurtosis:                      24.830   Cond. No.                     1.13e+03\n",
      "==============================================================================\n",
      "\n",
      "Notes:\n",
      "[1] Standard Errors assume that the covariance matrix of the errors is correctly specified.\n",
      "[2] The condition number is large, 1.13e+03. This might indicate that there are\n",
      "strong multicollinearity or other numerical problems.\n"
     ]
    }
   ],
   "source": [
    "# Perform linear regression\n",
    "Y = deliveries_data[deliveries_data['Is ASAP']==True].groupby(['Delivery Region', 'customer_order_hours']).mean()['Merchant-Driver time diff'].values\n",
    "X = np.vstack((deliveries_data[deliveries_data['Is ASAP']==True].groupby(['Delivery Region', 'customer_order_hours']).count().iloc[:, 0].values, \n",
    "                       deliveries_data[deliveries_data['Is ASAP']==True].groupby(['Delivery Region', 'customer_order_hours']).nunique()['Driver ID'].values)).T\n",
    "X = sm.add_constant(X)\n",
    "model = sm.OLS(Y,X)\n",
    "results = model.fit()\n",
    "print(results.summary())"
   ]
  },
  {
   "cell_type": "markdown",
   "id": "046c3113",
   "metadata": {},
   "source": [
    "## Part F: Revenue Optimization\n",
    "\n",
    "Perform data analysis to understand what features impact revenue, which is measured by 'Order total'. Assumption I make is that 'Order total' is the amount customers spend on the orders before discounts and tips."
   ]
  },
  {
   "cell_type": "markdown",
   "id": "8c30739b",
   "metadata": {},
   "source": [
    "### Discussion:\n",
    "Looking at the 'Average Order total dollars for each restaurant' plot below, the average order total for each restaurant is estimated around 50 dollars, with the first standard deviation range from 40-60 dollars. Relatively, much less restaurants are getting orders that are more then 70 dollars and above. \n",
    "\n",
    "It is recommended to work with the merchants to increase their order total, which means shifting the bell curve in the plot below more to the right. This would provide a higher revenue to DoorDash while providing a win-win siutation to the merchants.\n",
    "\n",
    "One interesting note is that providing discounts have very little to no impacts to the median value of order total value. It is recommended to perform A/B testing to understand how much discounts are needed to see a positive impact on the order total for each restaurant."
   ]
  },
  {
   "cell_type": "code",
   "execution_count": 22,
   "id": "f6b8c414",
   "metadata": {},
   "outputs": [
    {
     "name": "stdout",
     "output_type": "stream",
     "text": [
      "Amount of discount\n",
      "False    38.630\n",
      "True     38.595\n",
      "Name: Order total, dtype: float64\n"
     ]
    },
    {
     "data": {
      "image/png": "[encoded data removed]",
      "text/plain": [
       "<Figure size 432x288 with 1 Axes>"
      ]
     },
     "metadata": {
      "needs_background": "light"
     },
     "output_type": "display_data"
    }
   ],
   "source": [
    "print(deliveries_data.groupby(deliveries_data['Amount of discount'] > 0).median()['Order total'])\n",
    "\n",
    "rest_id_order_total = deliveries_data.groupby(['Restaurant ID']).mean()['Order total']\n",
    "plt.hist(rest_id_order_total, bins=15)\n",
    "plt.title('Average Order total dollars for each restaurant')\n",
    "plt.ylabel('Count')\n",
    "plt.xlabel('Dollars')\n",
    "plt.show()"
   ]
  },
  {
   "cell_type": "code",
   "execution_count": 23,
   "id": "4f0d6fe4",
   "metadata": {},
   "outputs": [
    {
     "name": "stdout",
     "output_type": "stream",
     "text": [
      "The -41.723% difference in Order total (Is ASAP mean: 43.969, Is not ASAP mean: 75.448) is significant (p=0.0)\n"
     ]
    }
   ],
   "source": [
    "deliveries_data.groupby(deliveries_data['Is ASAP']).median()['Order total']\n",
    "\n",
    "# Perform t-test\n",
    "def t_test(test, control, tname, cname, var):\n",
    "    pct_diff_ss = abs(control[var].count() - test[var].count())/float(control[var].count()) \n",
    "    pct_diff_var = abs(control[var].var() - control[var].var())/float(control[var].var())\n",
    "    # if variance + sample sizes are within 20% use t-test\n",
    "    if pct_diff_ss < .2 and pct_diff_var < .2:\n",
    "        t, p = ss.ttest_ind(control[var], test[var], equal_var=True)\n",
    "    # else use welch's t-test adaptation\n",
    "    else: \n",
    "        t, p = ss.ttest_ind(control[var], test[var], equal_var=False)\n",
    "    sigtext = \"significant\" if p<.05 else \"not significant\"\n",
    "    return(\"The {diff}% difference in {var} ({tname} mean: {tmean}, {cname} mean: {cmean}) is {sigtext} (p={p})\".format(var=var, tname=tname, cname=cname, tmean=round(test[var].mean(), 3), cmean=round(control[var].mean(), 3), \n",
    "                   diff=round((test[var].mean()-control[var].mean())/control[var].mean()*100, 3), sigtext=sigtext, p=round(p, 4)))\n",
    "    \n",
    "print(t_test(deliveries_data[deliveries_data['Is ASAP']==True], deliveries_data[deliveries_data['Is ASAP']==False], 'Is ASAP', 'Is not ASAP','Order total'))"
   ]
  },
  {
   "cell_type": "markdown",
   "id": "4cfbd0cb",
   "metadata": {},
   "source": [
    "Using the t-test to compare the means of the two systems, on-demand orders (is ASAP=True) and scheduled orders (is ASAP=False), there is a significant difference in the mean values between the two as shown above. This is important for DoorDash and merchants to understand how can we incentive and encourage users to use scheduled orders more frequently.\n",
    "\n",
    "Total time from customer placing the order to receiving order is significant to the amount of orders. As shown below, there is a 25.2% coorelation with a very low p-value. This is important to keep in mind as we are extracting insights from overall trends of all merchants. The majority of merchants have similar total time, but the goal of DoorDash is to work with the merchants to reduce the order time and maxmizing the experiences for everyone in the networks. Further recommendations and improvements are discussed in the business recommendations."
   ]
  },
  {
   "cell_type": "code",
   "execution_count": 24,
   "id": "c858db49",
   "metadata": {},
   "outputs": [
    {
     "name": "stdout",
     "output_type": "stream",
     "text": [
      "(0.25204826069322195, 5.495081254104488e-208)\n"
     ]
    },
    {
     "data": {
      "image/png": "[encoded data removed]",
      "text/plain": [
       "<Figure size 432x288 with 1 Axes>"
      ]
     },
     "metadata": {
      "needs_background": "light"
     },
     "output_type": "display_data"
    }
   ],
   "source": [
    "print(ss.pearsonr(deliveries_data_is_asap_df['total_time'],deliveries_data_is_asap_df['Order total']))\n",
    "    \n",
    "plt.scatter(deliveries_data_is_asap_df['total_time'],deliveries_data_is_asap_df['Order total'])\n",
    "plt.xlim([0,15000])\n",
    "plt.ylim([0,300])\n",
    "plt.title('Average Order total dollars vs Total Time')\n",
    "plt.ylabel('Order total')\n",
    "plt.xlabel('Total Time')\n",
    "plt.show()"
   ]
  },
  {
   "cell_type": "code",
   "execution_count": null,
   "id": "767c764c",
   "metadata": {},
   "outputs": [],
   "source": []
  }
 ],
 "metadata": {
  "kernelspec": {
   "display_name": "Python 3",
   "language": "python",
   "name": "python3"
  },
  "language_info": {
   "codemirror_mode": {
    "name": "ipython",
    "version": 3
   },
   "file_extension": ".py",
   "mimetype": "text/x-python",
   "name": "python",
   "nbconvert_exporter": "python",
   "pygments_lexer": "ipython3",
   "version": "3.8.8"
  }
 },
 "nbformat": 4,
 "nbformat_minor": 5
}
